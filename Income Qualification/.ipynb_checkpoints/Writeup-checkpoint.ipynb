{
 "cells": [
  {
   "cell_type": "markdown",
   "id": "28759dde",
   "metadata": {},
   "source": [
    "# Module 3 (Machine Learning)\n",
    "# Project 2\n",
    "## Income Qualification\n",
    "## Student Name : Shivam Uppal"
   ]
  },
  {
   "cell_type": "markdown",
   "id": "c1e2c0d6",
   "metadata": {},
   "source": [
    "### There are two datasets : train & test"
   ]
  },
  {
   "cell_type": "markdown",
   "id": "f009fef8",
   "metadata": {},
   "source": [
    "### EDA & Feature Engineering"
   ]
  },
  {
   "cell_type": "markdown",
   "id": "0bdeb2ec",
   "metadata": {},
   "source": [
    "- While performing the EDA, we have found that the data is pretty dirty. some of the coulumns have tthe multiple values (Categorical & numerical both) and some of the columns having missing values"
   ]
  },
  {
   "cell_type": "markdown",
   "id": "b32fc1a4",
   "metadata": {},
   "source": [
    "- Columns \"dependency\", \"edjefe\" & \"edjefa\" having both the values (numerical & categorical (yes, no)).\n",
    "\tin \"edjefe\" & \"edjefa\" we replaced the \"no\" value with \"0\" and the value \"yes\" is replaced by the median.\n",
    "    and in the dependency column we have replaced the \"yes\" with 1 and \"no\" with 0."
   ]
  },
  {
   "cell_type": "markdown",
   "id": "309b954b",
   "metadata": {},
   "source": [
    "- Some columns having missing values:\n",
    "v2a1     :    6860 Missing Values, \n",
    "v18q1    :    7342 Missing Values, \n",
    "rez_esc   :   7928 Missing Values, \n",
    "meaneduc    :    5 Missing Values, \n",
    "SQBmeaned    :   5 Missing Values\n",
    "\n",
    "through EDA we didnt find any significant thing for the missing values so in the column \"v2a1\", \"rez_esc\", \"meaneduc\" we filled the missing values with \"0\".\n",
    "and in columns \"v18q1\", we use the mode."
   ]
  },
  {
   "cell_type": "markdown",
   "id": "4daca8af",
   "metadata": {},
   "source": [
    "### Model Building"
   ]
  },
  {
   "cell_type": "markdown",
   "id": "7d6b3b53",
   "metadata": {},
   "source": [
    "- scaling the data (both train & test data)\n",
    "- we found that the data is imbalanced too so we treated the imbalance dataset through imblearn class\n",
    "- after such steps, we applied the PCA on the dataset (to reduce the dimentions of the dataset) and we set the hyperparameter (n_components=50) cz it will cover the almost 95% of variance.\n",
    "- After PCA, we have train our model (Random Forest Classifier) with the training data.\n",
    "- The model gives the accuracy : 1 on the traing dataset\n",
    "\n",
    "- we have also evaluate the model through cross validation and it give the accuracy around 62.41%.\n"
   ]
  }
 ],
 "metadata": {
  "kernelspec": {
   "display_name": "Python 3 (ipykernel)",
   "language": "python",
   "name": "python3"
  },
  "language_info": {
   "codemirror_mode": {
    "name": "ipython",
    "version": 3
   },
   "file_extension": ".py",
   "mimetype": "text/x-python",
   "name": "python",
   "nbconvert_exporter": "python",
   "pygments_lexer": "ipython3",
   "version": "3.10.8"
  }
 },
 "nbformat": 4,
 "nbformat_minor": 5
}
